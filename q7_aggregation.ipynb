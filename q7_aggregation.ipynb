{
 "cells": [
  {
   "cell_type": "markdown",
   "metadata": {},
   "source": [
    "# Assignment 5, Question 7: Group Operations & Final Analysis\n",
    "\n",
    "**Points: 15**\n",
    "\n",
    "Perform grouped analysis and create summary reports."
   ]
  },
  {
   "cell_type": "markdown",
   "metadata": {},
   "source": [
    "## Setup"
   ]
  },
  {
   "cell_type": "code",
   "execution_count": 3,
   "metadata": {},
   "outputs": [
    {
     "name": "stdout",
     "output_type": "stream",
     "text": [
      "Loaded 10000 patients\n"
     ]
    }
   ],
   "source": [
    "import pandas as pd\n",
    "import numpy as np\n",
    "import matplotlib.pyplot as plt\n",
    "\n",
    "# Import utilities\n",
    "from q3_data_utils import load_data, summarize_by_group\n",
    "\n",
    "df = load_data('data/clinical_trial_raw.csv')\n",
    "print(f\"Loaded {len(df)} patients\")\n",
    "\n",
    "# Prewritten visualization function for grouped analysis\n",
    "def plot_group_comparison(data, x_col, y_col, title):\n",
    "    \"\"\"\n",
    "    Create a bar chart comparing groups.\n",
    "    \n",
    "    Args:\n",
    "        data: DataFrame with grouped data\n",
    "        x_col: Column name for x-axis (groups)\n",
    "        y_col: Column name for y-axis (values)\n",
    "        title: Chart title\n",
    "    \"\"\"\n",
    "    plt.figure(figsize=(10, 6))\n",
    "    data.plot(x=x_col, y=y_col, kind='bar')\n",
    "    plt.title(title)\n",
    "    plt.xticks(rotation=45)\n",
    "    plt.tight_layout()\n",
    "    plt.show()"
   ]
  },
  {
   "cell_type": "markdown",
   "metadata": {},
   "source": [
    "## Part 1: Basic Groupby (5 points)\n",
    "\n",
    "1. Group by 'site' and calculate mean age, BMI, and blood pressure\n",
    "2. Group by 'intervention_group' and count patients\n",
    "3. Use the `summarize_by_group()` utility to get overall statistics by site"
   ]
  },
  {
   "cell_type": "code",
   "execution_count": 11,
   "metadata": {},
   "outputs": [
    {
     "name": "stdout",
     "output_type": "stream",
     "text": [
      "              age        bmi  systolic_bp\n",
      "site                                     \n",
      "site a  56.364005  25.875183   117.354284\n",
      "site b  62.401957  25.706681   117.130675\n",
      "site c  57.312108  25.789583   117.978359\n",
      "site d  63.491006  25.565682   117.943662\n",
      "site e  57.064897  25.476502   117.503080\n"
     ]
    }
   ],
   "source": [
    "# TODO: Group by site\n",
    "#\n",
    "df['site'] = df['site'].str.lower()\n",
    "df['site'] = df['site'].str.strip()\n",
    "df['site'] = df['site'].str.replace('  ', ' ')\n",
    "df['site'] = df['site'].str.replace('_', ' ')\n",
    "#group by site and calc mean of age bmi and blood pressure\n",
    "\n",
    "site_summary = df.groupby('site').agg({'age': 'mean', 'bmi': 'mean', 'systolic_bp': 'mean'})\n",
    "\n",
    "print(site_summary)"
   ]
  },
  {
   "cell_type": "code",
   "execution_count": 12,
   "metadata": {},
   "outputs": [
    {
     "name": "stdout",
     "output_type": "stream",
     "text": [
      "intervention_group\n",
      "treatment b    3342\n",
      "control        3337\n",
      "treatment a    3321\n",
      "Name: count, dtype: int64\n"
     ]
    }
   ],
   "source": [
    "# TODO: Count by intervention group\n",
    "df['intervention_group'] = df['intervention_group'].str.lower()\n",
    "df['intervention_group'] = df['intervention_group'].str.strip()\n",
    "df['intervention_group'] = df['intervention_group'].str.replace('  ', ' ')\n",
    "df['intervention_group'] = df['intervention_group'].str.replace('_', ' ')\n",
    "df['intervention_group'] = df['intervention_group'].str.replace('treatmenta', 'treatment a')\n",
    "df['intervention_group'] = df['intervention_group'].str.replace('treatmen a', 'treatment a')\n",
    "df['intervention_group'] = df['intervention_group'].str.replace('contrl', 'control')\n",
    "\n",
    "intervention_counts = df['intervention_group'].value_counts()\n",
    "print(intervention_counts)"
   ]
  },
  {
   "cell_type": "markdown",
   "metadata": {},
   "source": [
    "**Note:** The `summarize_by_group()` function has an optional `agg_dict` parameter for custom aggregations. If you don't specify it, it will use `.describe()` on numeric columns. You can use `agg_dict={'age': ['mean', 'std'], 'bmi': 'mean'}` for custom aggregations.\n"
   ]
  },
  {
   "cell_type": "code",
   "execution_count": null,
   "metadata": {},
   "outputs": [
    {
     "name": "stdout",
     "output_type": "stream",
     "text": [
      "              age                    bmi systolic_bp\n",
      "             mean         std       mean        mean\n",
      "site                                                \n",
      "site a  56.364005  162.536292  25.875183  117.354284\n",
      "site b  62.401957  139.050180  25.706681  117.130675\n",
      "site c  57.312108  157.941868  25.789583  117.978359\n",
      "site d  63.491006  136.140058  25.565682  117.943662\n",
      "site e  57.064897  157.697644  25.476502  117.503080\n"
     ]
    }
   ],
   "source": [
    "# TODO: Use summarize_by_group utility\n",
    "site_summary_fnc = summarize_by_group(df, 'site', agg_dict={'age': ['mean', 'std'],\n",
    "                                 'bmi': 'mean', 'systolic_bp': 'mean'})\n",
    "print(site_summary_fnc)"
   ]
  },
  {
   "cell_type": "markdown",
   "metadata": {},
   "source": [
    "## Part 2: Multiple Aggregations (5 points)\n",
    "\n",
    "Group by 'site' and apply multiple aggregations:\n",
    "- age: mean, std, min, max\n",
    "- bmi: mean, std\n",
    "- systolic_bp: mean, median\n",
    "\n",
    "Display the results in a well-formatted table."
   ]
  },
  {
   "cell_type": "code",
   "execution_count": 14,
   "metadata": {},
   "outputs": [
    {
     "name": "stdout",
     "output_type": "stream",
     "text": [
      "              age                              bmi           systolic_bp  \\\n",
      "             mean         std  min  max       mean       std        mean   \n",
      "site                                                                       \n",
      "site a  56.364005  162.536292 -999  100  25.875183  4.983102  117.354284   \n",
      "site b  62.401957  139.050180 -999  100  25.706681  5.017423  117.130675   \n",
      "site c  57.312108  157.941868 -999  100  25.789583  5.417217  117.978359   \n",
      "site d  63.491006  136.140058 -999  100  25.565682  5.881319  117.943662   \n",
      "site e  57.064897  157.697644 -999  100  25.476502  6.084532  117.503080   \n",
      "\n",
      "               \n",
      "       median  \n",
      "site           \n",
      "site a  117.0  \n",
      "site b  117.0  \n",
      "site c  118.0  \n",
      "site d  118.0  \n",
      "site e  117.0  \n"
     ]
    }
   ],
   "source": [
    "# TODO: Multiple aggregations\n",
    "site_summary_adv = summarize_by_group(df, 'site', agg_dict={'age': ['mean', 'std', 'min', 'max'],\n",
    "                                 'bmi': ['mean', 'std'],\n",
    "                                 'systolic_bp': ['mean', 'median']})\n",
    "print(site_summary_adv)"
   ]
  },
  {
   "cell_type": "markdown",
   "metadata": {},
   "source": [
    "## Part 3: Comparative Analysis (5 points)\n",
    "\n",
    "Compare intervention groups:\n",
    "1. Calculate mean outcome_cvd rate by intervention_group\n",
    "2. Calculate mean adherence_pct by intervention_group\n",
    "3. Create a cross-tabulation of intervention_group vs dropout status\n",
    "4. Visualize the comparison with a bar plot"
   ]
  },
  {
   "cell_type": "code",
   "execution_count": 34,
   "metadata": {},
   "outputs": [
    {
     "data": {
      "text/html": [
       "<div>\n",
       "<style scoped>\n",
       "    .dataframe tbody tr th:only-of-type {\n",
       "        vertical-align: middle;\n",
       "    }\n",
       "\n",
       "    .dataframe tbody tr th {\n",
       "        vertical-align: top;\n",
       "    }\n",
       "\n",
       "    .dataframe thead th {\n",
       "        text-align: right;\n",
       "    }\n",
       "</style>\n",
       "<table border=\"1\" class=\"dataframe\">\n",
       "  <thead>\n",
       "    <tr style=\"text-align: right;\">\n",
       "      <th>intervention_group</th>\n",
       "      <th>control</th>\n",
       "      <th>treatment a</th>\n",
       "      <th>treatment b</th>\n",
       "    </tr>\n",
       "    <tr>\n",
       "      <th>outcome_cvd</th>\n",
       "      <th></th>\n",
       "      <th></th>\n",
       "      <th></th>\n",
       "    </tr>\n",
       "  </thead>\n",
       "  <tbody>\n",
       "    <tr>\n",
       "      <th>No</th>\n",
       "      <td>1532</td>\n",
       "      <td>1599</td>\n",
       "      <td>1570</td>\n",
       "    </tr>\n",
       "    <tr>\n",
       "      <th>Yes</th>\n",
       "      <td>617</td>\n",
       "      <td>534</td>\n",
       "      <td>561</td>\n",
       "    </tr>\n",
       "    <tr>\n",
       "      <th>no</th>\n",
       "      <td>682</td>\n",
       "      <td>661</td>\n",
       "      <td>657</td>\n",
       "    </tr>\n",
       "    <tr>\n",
       "      <th>yes</th>\n",
       "      <td>506</td>\n",
       "      <td>527</td>\n",
       "      <td>554</td>\n",
       "    </tr>\n",
       "  </tbody>\n",
       "</table>\n",
       "</div>"
      ],
      "text/plain": [
       "intervention_group  control  treatment a  treatment b\n",
       "outcome_cvd                                          \n",
       "No                     1532         1599         1570\n",
       "Yes                     617          534          561\n",
       "no                      682          661          657\n",
       "yes                     506          527          554"
      ]
     },
     "metadata": {},
     "output_type": "display_data"
    },
    {
     "name": "stdout",
     "output_type": "stream",
     "text": [
      "                    adherence_pct\n",
      "intervention_group               \n",
      "control                 60.621688\n",
      "treatment a             60.210173\n",
      "treatment b             61.009404\n"
     ]
    },
    {
     "data": {
      "text/html": [
       "<div>\n",
       "<style scoped>\n",
       "    .dataframe tbody tr th:only-of-type {\n",
       "        vertical-align: middle;\n",
       "    }\n",
       "\n",
       "    .dataframe tbody tr th {\n",
       "        vertical-align: top;\n",
       "    }\n",
       "\n",
       "    .dataframe thead th {\n",
       "        text-align: right;\n",
       "    }\n",
       "</style>\n",
       "<table border=\"1\" class=\"dataframe\">\n",
       "  <thead>\n",
       "    <tr style=\"text-align: right;\">\n",
       "      <th>intervention_group</th>\n",
       "      <th>control</th>\n",
       "      <th>treatment a</th>\n",
       "      <th>treatment b</th>\n",
       "    </tr>\n",
       "    <tr>\n",
       "      <th>dropout</th>\n",
       "      <th></th>\n",
       "      <th></th>\n",
       "      <th></th>\n",
       "    </tr>\n",
       "  </thead>\n",
       "  <tbody>\n",
       "    <tr>\n",
       "      <th>No</th>\n",
       "      <td>2831</td>\n",
       "      <td>2831</td>\n",
       "      <td>2871</td>\n",
       "    </tr>\n",
       "    <tr>\n",
       "      <th>Yes</th>\n",
       "      <td>506</td>\n",
       "      <td>490</td>\n",
       "      <td>471</td>\n",
       "    </tr>\n",
       "  </tbody>\n",
       "</table>\n",
       "</div>"
      ],
      "text/plain": [
       "intervention_group  control  treatment a  treatment b\n",
       "dropout                                              \n",
       "No                     2831         2831         2871\n",
       "Yes                     506          490          471"
      ]
     },
     "metadata": {},
     "output_type": "display_data"
    }
   ],
   "source": [
    "# TODO: Intervention group comparisons\n",
    "#outcome_cvd is not numeric, cannot get mean of column. Displaying crosstab instead.\n",
    "outcome_cross = pd.crosstab(df['outcome_cvd'], df['intervention_group'])\n",
    "display(outcome_cross)\n",
    "intervention_summary_adv = df.groupby('intervention_group').agg({'adherence_pct': 'mean'})\n",
    "print(intervention_summary_adv)\n",
    "drop_cross = pd.crosstab(df['dropout'], df['intervention_group'])\n",
    "display(drop_cross)\n",
    "\n"
   ]
  },
  {
   "cell_type": "code",
   "execution_count": 35,
   "metadata": {},
   "outputs": [
    {
     "data": {
      "image/png": "[encoded data removed]",
      "text/plain": [
       "<Figure size 640x480 with 1 Axes>"
      ]
     },
     "metadata": {},
     "output_type": "display_data"
    },
    {
     "data": {
      "text/plain": [
       "<Figure size 1000x600 with 0 Axes>"
      ]
     },
     "metadata": {},
     "output_type": "display_data"
    },
    {
     "data": {
      "image/png": "[encoded data removed]",
      "text/plain": [
       "<Figure size 640x480 with 1 Axes>"
      ]
     },
     "metadata": {},
     "output_type": "display_data"
    },
    {
     "data": {
      "text/plain": [
       "<Axes: title={'center': 'Dropout Counts by Intervention Group'}, xlabel='dropout'>"
      ]
     },
     "execution_count": 35,
     "metadata": {},
     "output_type": "execute_result"
    },
    {
     "data": {
      "image/png": "[encoded data removed]",
      "text/plain": [
       "<Figure size 640x480 with 1 Axes>"
      ]
     },
     "metadata": {},
     "output_type": "display_data"
    }
   ],
   "source": [
    "# TODO: Visualization\n",
    "outcome_cross.plot(kind='bar', title='CVD Outcome Counts by Intervention Group')\n",
    "plot_group_comparison(intervention_summary_adv.reset_index(), 'intervention_group', 'adherence_pct', 'Average Adherence Percentage by Intervention Group')\n",
    "drop_cross.plot(kind='bar', title='Dropout Counts by Intervention Group')"
   ]
  },
  {
   "cell_type": "markdown",
   "metadata": {},
   "source": [
    "## Part 4: Final Report\n",
    "\n",
    "Create and save:\n",
    "1. Summary statistics by site → `output/q7_site_summary.csv`\n",
    "2. Intervention group comparison → `output/q7_intervention_comparison.csv`\n",
    "3. Text report with key findings → `output/q7_analysis_report.txt`"
   ]
  },
  {
   "cell_type": "code",
   "execution_count": null,
   "metadata": {},
   "outputs": [],
   "source": [
    "# TODO: Save summary outputs\n",
    "summary_site_adv.to_csv('output/q7_site_summary.csv')\n"
   ]
  },
  {
   "cell_type": "markdown",
   "metadata": {},
   "source": [
    "## Summary\n",
    "\n",
    "What are the 3 most important findings from your analysis?"
   ]
  },
  {
   "cell_type": "markdown",
   "metadata": {},
   "source": [
    "**Key Findings:**\n",
    "\n",
    "1. TODO\n",
    "2. TODO\n",
    "3. TODO\n"
   ]
  }
 ],
 "metadata": {
  "kernelspec": {
   "display_name": "datasci-217 (3.13.5)",
   "language": "python",
   "name": "python3"
  },
  "language_info": {
   "codemirror_mode": {
    "name": "ipython",
    "version": 3
   },
   "file_extension": ".py",
   "mimetype": "text/x-python",
   "name": "python",
   "nbconvert_exporter": "python",
   "pygments_lexer": "ipython3",
   "version": "3.13.5"
  }
 },
 "nbformat": 4,
 "nbformat_minor": 2
}
